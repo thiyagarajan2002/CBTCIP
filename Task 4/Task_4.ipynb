{
  "nbformat": 4,
  "nbformat_minor": 0,
  "metadata": {
    "colab": {
      "provenance": []
    },
    "kernelspec": {
      "name": "python3",
      "display_name": "Python 3"
    },
    "language_info": {
      "name": "python"
    }
  },
  "cells": [
    {
      "cell_type": "code",
      "source": [
        "import pandas as pd\n",
        "data = pd.read_csv('/content/Spam Email Detection - spam.csv')"
      ],
      "metadata": {
        "id": "bwi7SBqf_IO5"
      },
      "execution_count": 19,
      "outputs": []
    },
    {
      "cell_type": "code",
      "source": [
        "import nltk\n",
        "nltk.download('stopwords')\n",
        "nltk.download('punkt')"
      ],
      "metadata": {
        "colab": {
          "base_uri": "https://localhost:8080/"
        },
        "id": "mtTR8tJq_USo",
        "outputId": "bb9c1335-f379-4e7b-a4e7-91751ba04dc8"
      },
      "execution_count": 20,
      "outputs": [
        {
          "output_type": "stream",
          "name": "stderr",
          "text": [
            "[nltk_data] Downloading package stopwords to /root/nltk_data...\n",
            "[nltk_data]   Package stopwords is already up-to-date!\n",
            "[nltk_data] Downloading package punkt to /root/nltk_data...\n",
            "[nltk_data]   Package punkt is already up-to-date!\n"
          ]
        },
        {
          "output_type": "execute_result",
          "data": {
            "text/plain": [
              "True"
            ]
          },
          "metadata": {},
          "execution_count": 20
        }
      ]
    },
    {
      "cell_type": "code",
      "source": [
        "from nltk.tokenize import word_tokenize\n",
        "from nltk.corpus import stopwords\n",
        "\n",
        "def preprocess_text(text):\n",
        "    words = word_tokenize(text.lower())\n",
        "    stop_words = set(stopwords.words('english'))\n",
        "    words = [word for word in words if word.isalpha() and word not in stop_words]\n",
        "    return ' '.join(words)\n",
        "\n",
        "data['v2'] = data['v2'].apply(preprocess_text)"
      ],
      "metadata": {
        "id": "P7WmIBtc_ZiF"
      },
      "execution_count": 21,
      "outputs": []
    },
    {
      "cell_type": "code",
      "source": [
        "from sklearn.feature_extraction.text import TfidfVectorizer\n",
        "\n",
        "tfidf_vectorizer = TfidfVectorizer(max_features=3000)\n",
        "X = tfidf_vectorizer.fit_transform(data['v2']).toarray()\n",
        "y = data['v1']"
      ],
      "metadata": {
        "id": "5KfeVlhr_Zeg"
      },
      "execution_count": 22,
      "outputs": []
    },
    {
      "cell_type": "code",
      "source": [
        "from sklearn.model_selection import train_test_split\n",
        "X_train, X_test, y_train, y_test = train_test_split(X, y, test_size=0.2, random_state=42)\n"
      ],
      "metadata": {
        "id": "G8ouLkf3_sTp"
      },
      "execution_count": 23,
      "outputs": []
    },
    {
      "cell_type": "code",
      "execution_count": 24,
      "metadata": {
        "id": "7sVC9b3ycT-H"
      },
      "outputs": [],
      "source": [
        "from sklearn.naive_bayes import MultinomialNB\n",
        "from sklearn.svm import SVC\n",
        "from sklearn.linear_model import LogisticRegression\n",
        "\n",
        "models = {\n",
        "    \"Naive Bayes\": MultinomialNB(),\n",
        "    \"Support Vector Machine\": SVC(kernel='linear', C=1, random_state=42),\n",
        "    \"Logistic Regression\": LogisticRegression(max_iter=1000, random_state=42)\n",
        "}"
      ]
    },
    {
      "cell_type": "code",
      "source": [
        "from sklearn.metrics import accuracy_score, classification_report, confusion_matrix\n",
        "for model_name, model in models.items():\n",
        "    model.fit(X_train, y_train)\n",
        "    y_pred = model.predict(X_test)\n",
        "    print(f\"\\nModel: {model_name}\")\n",
        "    print(\"Accuracy:\", accuracy_score(y_test, y_pred))\n",
        "    print(\"Classification Report:\\n\", classification_report(y_test, y_pred))\n",
        "    print(\"Confusion Matrix:\\n\", confusion_matrix(y_test, y_pred))"
      ],
      "metadata": {
        "colab": {
          "base_uri": "https://localhost:8080/"
        },
        "id": "td4nX9AY_3gp",
        "outputId": "7ebf2232-80be-4951-a2b3-dcb8dbf91540"
      },
      "execution_count": 25,
      "outputs": [
        {
          "output_type": "stream",
          "name": "stdout",
          "text": [
            "\n",
            "Model: Naive Bayes\n",
            "Accuracy: 0.9739910313901345\n",
            "Classification Report:\n",
            "               precision    recall  f1-score   support\n",
            "\n",
            "         ham       0.97      1.00      0.99       965\n",
            "        spam       0.99      0.81      0.89       150\n",
            "\n",
            "    accuracy                           0.97      1115\n",
            "   macro avg       0.98      0.91      0.94      1115\n",
            "weighted avg       0.97      0.97      0.97      1115\n",
            "\n",
            "Confusion Matrix:\n",
            " [[964   1]\n",
            " [ 28 122]]\n",
            "\n",
            "Model: Support Vector Machine\n",
            "Accuracy: 0.9748878923766816\n",
            "Classification Report:\n",
            "               precision    recall  f1-score   support\n",
            "\n",
            "         ham       0.98      0.99      0.99       965\n",
            "        spam       0.96      0.85      0.90       150\n",
            "\n",
            "    accuracy                           0.97      1115\n",
            "   macro avg       0.97      0.92      0.94      1115\n",
            "weighted avg       0.97      0.97      0.97      1115\n",
            "\n",
            "Confusion Matrix:\n",
            " [[960   5]\n",
            " [ 23 127]]\n",
            "\n",
            "Model: Logistic Regression\n",
            "Accuracy: 0.9497757847533632\n",
            "Classification Report:\n",
            "               precision    recall  f1-score   support\n",
            "\n",
            "         ham       0.95      0.99      0.97       965\n",
            "        spam       0.95      0.66      0.78       150\n",
            "\n",
            "    accuracy                           0.95      1115\n",
            "   macro avg       0.95      0.83      0.88      1115\n",
            "weighted avg       0.95      0.95      0.95      1115\n",
            "\n",
            "Confusion Matrix:\n",
            " [[960   5]\n",
            " [ 51  99]]\n"
          ]
        }
      ]
    }
  ]
}